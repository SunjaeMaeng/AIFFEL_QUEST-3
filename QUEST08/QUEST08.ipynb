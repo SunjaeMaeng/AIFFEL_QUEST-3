{
  "cells": [
    {
      "cell_type": "markdown",
      "metadata": {
        "id": "view-in-github",
        "colab_type": "text"
      },
      "source": [
        "<a href=\"https://colab.research.google.com/github/dellaanima/AIFFEL_QUEST/blob/master/QUEST08/QUEST08\" target=\"_parent\"><img src=\"https://colab.research.google.com/assets/colab-badge.svg\" alt=\"Open In Colab\"/></a>"
      ]
    },
    {
      "cell_type": "markdown",
      "id": "e4eba642",
      "metadata": {
        "id": "e4eba642"
      },
      "source": [
        "# 16. 프로젝트: 한국어 데이터로 챗봇 만들기"
      ]
    },
    {
      "cell_type": "markdown",
      "id": "2175e8fc",
      "metadata": {
        "id": "2175e8fc"
      },
      "source": [
        "## 목차\n",
        "\n",
        "1. 데이터 수집하기\n",
        "2. 데이터 전처리하기\n",
        "3. SubwordTextEncoder 사용하기\n",
        "4. 모델 구성하기\n",
        "5. 모델 평가하기\n",
        "6. 회고"
      ]
    },
    {
      "cell_type": "markdown",
      "id": "dc278ad0",
      "metadata": {
        "id": "dc278ad0"
      },
      "source": [
        "## Step 1. 데이터 수집하기"
      ]
    },
    {
      "cell_type": "markdown",
      "id": "ab3f7bb5",
      "metadata": {
        "id": "ab3f7bb5"
      },
      "source": [
        "이 데이터는 아래의 링크에서 다운로드할 수 있습니다.  \n",
        "[songys/Chatbot_data](https://github.com/songys/Chatbot_data/blob/master/ChatbotData.csv)"
      ]
    },
    {
      "cell_type": "code",
      "execution_count": null,
      "id": "7439a0ea",
      "metadata": {
        "id": "7439a0ea"
      },
      "outputs": [],
      "source": [
        "#필요한 패키지 import\n",
        "import tensorflow as tf\n",
        "import tensorflow_datasets as tfds\n",
        "import pandas as pd\n",
        "import os\n",
        "import re\n",
        "import numpy as np\n",
        "import matplotlib.pyplot as plt"
      ]
    },
    {
      "cell_type": "code",
      "execution_count": null,
      "id": "17762a5b",
      "metadata": {
        "id": "17762a5b"
      },
      "outputs": [],
      "source": [
        "#데이터 확인\n",
        "data_path = '/aiffel/data/ChatbotData .csv'\n",
        "data = pd.read_csv(data_path)"
      ]
    },
    {
      "cell_type": "code",
      "execution_count": null,
      "id": "d74959e9",
      "metadata": {
        "id": "d74959e9",
        "outputId": "78875c91-0030-4a1e-8d24-22f591e31b82"
      },
      "outputs": [
        {
          "data": {
            "text/html": [
              "<div>\n",
              "<style scoped>\n",
              "    .dataframe tbody tr th:only-of-type {\n",
              "        vertical-align: middle;\n",
              "    }\n",
              "\n",
              "    .dataframe tbody tr th {\n",
              "        vertical-align: top;\n",
              "    }\n",
              "\n",
              "    .dataframe thead th {\n",
              "        text-align: right;\n",
              "    }\n",
              "</style>\n",
              "<table border=\"1\" class=\"dataframe\">\n",
              "  <thead>\n",
              "    <tr style=\"text-align: right;\">\n",
              "      <th></th>\n",
              "      <th>Q</th>\n",
              "      <th>A</th>\n",
              "      <th>label</th>\n",
              "    </tr>\n",
              "  </thead>\n",
              "  <tbody>\n",
              "    <tr>\n",
              "      <th>0</th>\n",
              "      <td>12시 땡!</td>\n",
              "      <td>하루가 또 가네요.</td>\n",
              "      <td>0</td>\n",
              "    </tr>\n",
              "    <tr>\n",
              "      <th>1</th>\n",
              "      <td>1지망 학교 떨어졌어</td>\n",
              "      <td>위로해 드립니다.</td>\n",
              "      <td>0</td>\n",
              "    </tr>\n",
              "    <tr>\n",
              "      <th>2</th>\n",
              "      <td>3박4일 놀러가고 싶다</td>\n",
              "      <td>여행은 언제나 좋죠.</td>\n",
              "      <td>0</td>\n",
              "    </tr>\n",
              "    <tr>\n",
              "      <th>3</th>\n",
              "      <td>3박4일 정도 놀러가고 싶다</td>\n",
              "      <td>여행은 언제나 좋죠.</td>\n",
              "      <td>0</td>\n",
              "    </tr>\n",
              "    <tr>\n",
              "      <th>4</th>\n",
              "      <td>PPL 심하네</td>\n",
              "      <td>눈살이 찌푸려지죠.</td>\n",
              "      <td>0</td>\n",
              "    </tr>\n",
              "  </tbody>\n",
              "</table>\n",
              "</div>"
            ],
            "text/plain": [
              "                 Q            A  label\n",
              "0           12시 땡!   하루가 또 가네요.      0\n",
              "1      1지망 학교 떨어졌어    위로해 드립니다.      0\n",
              "2     3박4일 놀러가고 싶다  여행은 언제나 좋죠.      0\n",
              "3  3박4일 정도 놀러가고 싶다  여행은 언제나 좋죠.      0\n",
              "4          PPL 심하네   눈살이 찌푸려지죠.      0"
            ]
          },
          "execution_count": 241,
          "metadata": {},
          "output_type": "execute_result"
        }
      ],
      "source": [
        "data.head()"
      ]
    },
    {
      "cell_type": "code",
      "execution_count": null,
      "id": "e7f7b9aa",
      "metadata": {
        "id": "e7f7b9aa",
        "outputId": "fb0bcdd4-3da7-49e4-c996-eb3c70faa8a3"
      },
      "outputs": [
        {
          "data": {
            "text/plain": [
              "11823"
            ]
          },
          "execution_count": 242,
          "metadata": {},
          "output_type": "execute_result"
        }
      ],
      "source": [
        "len(data)"
      ]
    },
    {
      "cell_type": "code",
      "execution_count": null,
      "id": "79a6488a",
      "metadata": {
        "id": "79a6488a"
      },
      "outputs": [],
      "source": [
        "max_sample=11823"
      ]
    },
    {
      "cell_type": "markdown",
      "id": "17506071",
      "metadata": {
        "id": "17506071"
      },
      "source": [
        "## Step 2. 데이터 전처리하기"
      ]
    },
    {
      "cell_type": "code",
      "execution_count": null,
      "id": "5ac890f3",
      "metadata": {
        "id": "5ac890f3",
        "outputId": "43fe2986-65b1-4570-9d5a-fcb2e3423b45"
      },
      "outputs": [
        {
          "data": {
            "text/plain": [
              "Q        0\n",
              "A        0\n",
              "label    0\n",
              "dtype: int64"
            ]
          },
          "execution_count": 244,
          "metadata": {},
          "output_type": "execute_result"
        }
      ],
      "source": [
        "#null값 있는지 확인\n",
        "data.isnull().sum()"
      ]
    },
    {
      "cell_type": "code",
      "execution_count": null,
      "id": "053a5444",
      "metadata": {
        "id": "053a5444",
        "outputId": "d631e2ce-3aae-4438-cd25-a42f848f3acb"
      },
      "outputs": [
        {
          "data": {
            "text/plain": [
              "0"
            ]
          },
          "execution_count": 245,
          "metadata": {},
          "output_type": "execute_result"
        }
      ],
      "source": [
        "#중복데이터 확인\n",
        "data.duplicated().sum()"
      ]
    },
    {
      "cell_type": "markdown",
      "id": "5fac34af",
      "metadata": {
        "id": "5fac34af"
      },
      "source": [
        "아래의 함수는 정규 표현식(Regular Expression) 을 사용하여 구두점(punctuation) 을 제거하여 단어를 토크나이징(tokenizing) 하는 일에 방해가 되지 않도록 정제하는 것을 목표로 합니다."
      ]
    },
    {
      "cell_type": "code",
      "execution_count": null,
      "id": "4454e19d",
      "metadata": {
        "id": "4454e19d",
        "outputId": "28cc9ffd-7d58-45a3-bd32-8fdf1d33564d"
      },
      "outputs": [
        {
          "name": "stdout",
          "output_type": "stream",
          "text": [
            "슝=3\n"
          ]
        }
      ],
      "source": [
        "# 전처리 함수\n",
        "def preprocess_sentence(sentence):\n",
        "    # 입력받은 sentence를 양쪽 공백 제거\n",
        "    sentence = sentence.strip() # 공백 제거\n",
        "\n",
        "    # 단어와 구두점(punctuation) 사이의 거리를 만듭니다.\n",
        "    sentence = re.sub(r\"([?.!,])\", r\" \\1 \", sentence)\n",
        "    sentence = re.sub(r'[\" \"]+', \" \", sentence)\n",
        "\n",
        "    # (가-힣,a-z, A-Z, \".\", \"?\", \"!\", \",\")를 제외한 모든 문자를 공백인 ' '로 대체합니다.\n",
        "    pattern2 = \"0-9가-힣.?!,\"\n",
        "    pattern1 = \"가-힣a-zA-Z.?!,\"\n",
        "    pattern = \"가-힣.?!,\"\n",
        "    sentence = re.sub(pattern1, ' ', sentence)\n",
        "    sentence = sentence.strip()\n",
        "    return sentence\n",
        "print(\"슝=3\")"
      ]
    },
    {
      "cell_type": "code",
      "execution_count": null,
      "id": "00013ef6",
      "metadata": {
        "id": "00013ef6",
        "outputId": "5d52d223-6672-4986-9531-11346307f0c6"
      },
      "outputs": [
        {
          "name": "stdout",
          "output_type": "stream",
          "text": [
            "슝=3\n"
          ]
        }
      ],
      "source": [
        "# 질문과 답변의 쌍인 데이터셋을 구성하기 위한 데이터 로드 함수\n",
        "def load_conversations():\n",
        "    inputs, outputs = [], []\n",
        "    for q in data['Q']:\n",
        "        inputs.append(preprocess_sentence(q))\n",
        "    for a in data['A']:\n",
        "        outputs.append(preprocess_sentence(a))\n",
        "    if len(inputs) >= max_sample:\n",
        "        return inputs, outputs\n",
        "    return inputs, outputs\n",
        "print(\"슝=3\")"
      ]
    },
    {
      "cell_type": "code",
      "execution_count": null,
      "id": "3545609a",
      "metadata": {
        "id": "3545609a",
        "outputId": "e1e7e8f2-8e89-4df9-9a02-0af6a926982b"
      },
      "outputs": [
        {
          "name": "stdout",
          "output_type": "stream",
          "text": [
            "전체 샘플 수 : 11823\n",
            "전체 샘플 수 : 11823\n"
          ]
        }
      ],
      "source": [
        "# 데이터를 로드하고 전처리하여 질문을 questions, 답변을 answers에 저장합니다.\n",
        "questions, answers = load_conversations()\n",
        "print('전체 샘플 수 :', len(questions))\n",
        "print('전체 샘플 수 :', len(answers))"
      ]
    },
    {
      "cell_type": "code",
      "execution_count": null,
      "id": "e968a86b",
      "metadata": {
        "id": "e968a86b",
        "outputId": "07b5c6fd-4603-4173-db18-a5714c6687b9"
      },
      "outputs": [
        {
          "name": "stdout",
          "output_type": "stream",
          "text": [
            "전처리 후의 222번째 질문 샘플: 공부 왜 해야 돼 ?\n",
            "전처리 후의 222번째 답변 샘플: 공부하면 더 많은 선택을 할 수 있죠 .\n"
          ]
        }
      ],
      "source": [
        "print('전처리 후의 222번째 질문 샘플: {}'.format(questions[221]))\n",
        "print('전처리 후의 222번째 답변 샘플: {}'.format(answers[221]))"
      ]
    },
    {
      "cell_type": "markdown",
      "id": "687b0a4a",
      "metadata": {
        "id": "687b0a4a"
      },
      "source": [
        "## Step 3. SubwordTextEncoder 사용하기"
      ]
    },
    {
      "cell_type": "markdown",
      "id": "627428e0",
      "metadata": {
        "id": "627428e0"
      },
      "source": [
        "### 단어장 만들기"
      ]
    },
    {
      "cell_type": "code",
      "execution_count": null,
      "id": "ddbb190e",
      "metadata": {
        "id": "ddbb190e"
      },
      "outputs": [],
      "source": [
        "import tensorflow_datasets as tfds\n",
        "\n",
        "# 질문과 답변 데이터셋에 대해서 Vocabulary 생성\n",
        "tokenizer = tfds.deprecated.text.SubwordTextEncoder.build_from_corpus(questions + answers, target_vocab_size=2**13)"
      ]
    },
    {
      "cell_type": "code",
      "execution_count": null,
      "id": "48a141b3",
      "metadata": {
        "id": "48a141b3",
        "outputId": "8103fe12-647f-4d05-adfe-d7e26340bda4"
      },
      "outputs": [
        {
          "name": "stdout",
          "output_type": "stream",
          "text": [
            "슝=3\n"
          ]
        }
      ],
      "source": [
        "# 시작 토큰과 종료 토큰에 고유한 정수를 부여합니다.\n",
        "START_TOKEN, END_TOKEN = [tokenizer.vocab_size], [tokenizer.vocab_size + 1]\n",
        "print(\"슝=3\")"
      ]
    },
    {
      "cell_type": "markdown",
      "id": "20fafdad",
      "metadata": {
        "id": "20fafdad"
      },
      "source": [
        "시작 토큰과 종료 토큰에 부여된 정수를 출력"
      ]
    },
    {
      "cell_type": "code",
      "execution_count": null,
      "id": "d937607f",
      "metadata": {
        "id": "d937607f",
        "outputId": "37b63d14-810b-43da-eb1d-d0768d463e2e"
      },
      "outputs": [
        {
          "name": "stdout",
          "output_type": "stream",
          "text": [
            "START_TOKEN의 번호 : [8173]\n",
            "END_TOKEN의 번호 : [8174]\n"
          ]
        }
      ],
      "source": [
        "print('START_TOKEN의 번호 :' ,[tokenizer.vocab_size])\n",
        "print('END_TOKEN의 번호 :' ,[tokenizer.vocab_size + 1])"
      ]
    },
    {
      "cell_type": "code",
      "execution_count": null,
      "id": "7f1fa71b",
      "metadata": {
        "id": "7f1fa71b",
        "outputId": "490bd187-4c64-4f41-c72a-21681e32dc6b"
      },
      "outputs": [
        {
          "name": "stdout",
          "output_type": "stream",
          "text": [
            "8175\n"
          ]
        }
      ],
      "source": [
        "# 시작 토큰과 종료 토큰을 고려하여 +2를 하여 단어장의 크기를 산정합니다.\n",
        "VOCAB_SIZE = tokenizer.vocab_size + 2\n",
        "print(VOCAB_SIZE)"
      ]
    },
    {
      "cell_type": "markdown",
      "id": "de091261",
      "metadata": {
        "id": "de091261"
      },
      "source": [
        "### 2. 각 단어를 고유한 정수로 인코딩(Integer encoding) & 패딩(Padding)"
      ]
    },
    {
      "cell_type": "code",
      "execution_count": null,
      "id": "ffce1de2",
      "metadata": {
        "id": "ffce1de2",
        "outputId": "61a9fa1c-963c-4b76-dd7a-d5a1844c760b"
      },
      "outputs": [
        {
          "name": "stdout",
          "output_type": "stream",
          "text": [
            "정수 인코딩 후의 222번째 질문 샘플: [549, 66, 217, 142, 2]\n",
            "정수 인코딩 후의 222번째 답변 샘플: [7767, 7, 162, 1862, 35, 4, 299, 1]\n"
          ]
        }
      ],
      "source": [
        "# 임의의 22번째 샘플에 대해서 정수 인코딩 작업을 수행.\n",
        "# 각 토큰을 고유한 정수로 변환\n",
        "print('정수 인코딩 후의 222번째 질문 샘플: {}'.format(tokenizer.encode(questions[221])))\n",
        "print('정수 인코딩 후의 222번째 답변 샘플: {}'.format(tokenizer.encode(answers[221])))"
      ]
    },
    {
      "cell_type": "code",
      "execution_count": null,
      "id": "18287716",
      "metadata": {
        "id": "18287716",
        "outputId": "f1157e31-63f1-4a7f-aa9b-fcd010330355"
      },
      "outputs": [
        {
          "data": {
            "image/png": "[encoded data removed]",
            "text/plain": [
              "<Figure size 432x288 with 1 Axes>"
            ]
          },
          "metadata": {
            "needs_background": "light"
          },
          "output_type": "display_data"
        },
        {
          "data": {
            "image/png": "[encoded data removed]",
            "text/plain": [
              "<Figure size 432x288 with 1 Axes>"
            ]
          },
          "metadata": {
            "needs_background": "light"
          },
          "output_type": "display_data"
        }
      ],
      "source": [
        "import matplotlib.pyplot as plt\n",
        "\n",
        "def visualize_sentence_lengths(sentences):\n",
        "    # 각 문장의 단어 수를 세어줍니다\n",
        "    word_counts = [len(sentence.split()) for sentence in sentences]\n",
        "\n",
        "    # 최대 단어 수를 계산하여 히스토그램의 구간 수를 설정합니다\n",
        "    max_word_count = max(word_counts)\n",
        "\n",
        "    # 단어 수에 대한 히스토그램을 생성합니다\n",
        "    # align='left': 이 매개변수는 히스토그램의 막대 정렬을 제어\n",
        "    # rwidth=0.8: 이 매개변수는 히스토그램에서 막대의 상대적 너비를 제어\n",
        "    plt.hist(word_counts, bins=range(1, max_word_count + 2), align='left', rwidth=0.8)\n",
        "    plt.xlabel('words')\n",
        "    plt.ylabel('sentence')\n",
        "    plt.xticks(range(1, max_word_count + 1))\n",
        "    plt.show()\n",
        "\n",
        "visualize_sentence_lengths(questions)\n",
        "visualize_sentence_lengths(answers)"
      ]
    },
    {
      "cell_type": "code",
      "execution_count": null,
      "id": "d171e2bf",
      "metadata": {
        "scrolled": true,
        "id": "d171e2bf",
        "outputId": "790cd576-be0b-42cb-a60f-2f60859edfc4"
      },
      "outputs": [
        {
          "name": "stdout",
          "output_type": "stream",
          "text": [
            "16\n"
          ]
        }
      ],
      "source": [
        "# 샘플의 최대 허용 길이 또는 패딩 후의 최종 길이\n",
        "MAX_LENGTH = 16\n",
        "print(MAX_LENGTH)"
      ]
    },
    {
      "cell_type": "code",
      "execution_count": null,
      "id": "c7bdc801",
      "metadata": {
        "id": "c7bdc801",
        "outputId": "6c5b0669-3c13-488a-a4aa-68ba432e1743"
      },
      "outputs": [
        {
          "name": "stdout",
          "output_type": "stream",
          "text": [
            "슝=3\n"
          ]
        }
      ],
      "source": [
        "# 정수 인코딩, 최대 길이를 초과하는 샘플 제거, 패딩\n",
        "def tokenize_and_filter(inputs, outputs):\n",
        "    tokenized_inputs, tokenized_outputs = [], []\n",
        "    for (sentence1, sentence2) in zip(inputs, outputs):\n",
        "        # 정수 인코딩 과정에서 시작 토큰과 종료 토큰을 추가\n",
        "        sentence1 = START_TOKEN + tokenizer.encode(sentence1) + END_TOKEN\n",
        "        sentence2 = START_TOKEN + tokenizer.encode(sentence2) + END_TOKEN\n",
        "\n",
        "        # 최대 길이 40 이하인 경우에만 데이터셋으로 허용\n",
        "        if len(sentence1) <= MAX_LENGTH and len(sentence2) <= MAX_LENGTH:\n",
        "            tokenized_inputs.append(sentence1)\n",
        "            tokenized_outputs.append(sentence2)\n",
        "\n",
        "    # 최대 길이 40으로 모든 데이터셋을 패딩\n",
        "    tokenized_inputs = tf.keras.preprocessing.sequence.pad_sequences(\n",
        "    tokenized_inputs, maxlen=MAX_LENGTH, padding='pre')\n",
        "    tokenized_outputs = tf.keras.preprocessing.sequence.pad_sequences(\n",
        "    tokenized_outputs, maxlen=MAX_LENGTH, padding='pre')\n",
        "\n",
        "    return tokenized_inputs, tokenized_outputs\n",
        "print(\"슝=3\")"
      ]
    },
    {
      "cell_type": "code",
      "execution_count": null,
      "id": "a6b7600e",
      "metadata": {
        "scrolled": true,
        "id": "a6b7600e",
        "outputId": "652afc3f-e42f-4759-ed33-99565658f1fa"
      },
      "outputs": [
        {
          "name": "stdout",
          "output_type": "stream",
          "text": [
            "단어장의 크기 : 8175\n",
            "필터링 후의 질문 샘플 개수: 11673\n",
            "필터링 후의 답변 샘플 개수: 11673\n"
          ]
        }
      ],
      "source": [
        "questions, answers = tokenize_and_filter(questions, answers)\n",
        "print('단어장의 크기 :',(VOCAB_SIZE))\n",
        "print('필터링 후의 질문 샘플 개수: {}'.format(len(questions)))\n",
        "print('필터링 후의 답변 샘플 개수: {}'.format(len(answers)))"
      ]
    },
    {
      "cell_type": "markdown",
      "id": "18c26aaa",
      "metadata": {
        "id": "18c26aaa"
      },
      "source": [
        "### 교사 강요 사용하기"
      ]
    },
    {
      "cell_type": "code",
      "execution_count": null,
      "id": "b7eb8aa5",
      "metadata": {
        "id": "b7eb8aa5",
        "outputId": "c506237f-7b3a-4aea-ddf6-4ceb5f9a6b68"
      },
      "outputs": [
        {
          "name": "stdout",
          "output_type": "stream",
          "text": [
            "슝=3\n"
          ]
        }
      ],
      "source": [
        "BATCH_SIZE = 64\n",
        "BUFFER_SIZE = 20000\n",
        "\n",
        "# 디코더는 이전의 target을 다음의 input으로 사용합니다.\n",
        "# 이에 따라 outputs에서는 START_TOKEN을 제거하겠습니다.\n",
        "dataset = tf.data.Dataset.from_tensor_slices((\n",
        "    {\n",
        "        'inputs': questions,\n",
        "        'dec_inputs': answers[:, :-1]\n",
        "    },\n",
        "    {\n",
        "        'outputs': answers[:, 1:]\n",
        "    },\n",
        "))\n",
        "\n",
        "dataset = dataset.cache()\n",
        "dataset = dataset.shuffle(BUFFER_SIZE)\n",
        "dataset = dataset.batch(BATCH_SIZE)\n",
        "dataset = dataset.prefetch(tf.data.experimental.AUTOTUNE)\n",
        "print(\"슝=3\")"
      ]
    },
    {
      "cell_type": "markdown",
      "id": "d0958c01",
      "metadata": {
        "id": "d0958c01"
      },
      "source": [
        "## Step 4. 모델 구성하기"
      ]
    },
    {
      "cell_type": "markdown",
      "id": "9df890c1",
      "metadata": {
        "id": "9df890c1"
      },
      "source": [
        "포지셔널 인코딩 레이어 구현"
      ]
    },
    {
      "cell_type": "code",
      "execution_count": null,
      "id": "fd18e0b3",
      "metadata": {
        "id": "fd18e0b3",
        "outputId": "3b96c678-f2e1-46be-8efb-19222a16a76b"
      },
      "outputs": [
        {
          "name": "stdout",
          "output_type": "stream",
          "text": [
            "슝=3\n"
          ]
        }
      ],
      "source": [
        "#포지셔널 행렬을 직접 구현\n",
        "# 포지셔널 인코딩 레이어\n",
        "class PositionalEncoding(tf.keras.layers.Layer):\n",
        "\n",
        "    def __init__(self, position, d_model):\n",
        "        super(PositionalEncoding, self).__init__()\n",
        "        self.pos_encoding = self.positional_encoding(position, d_model)\n",
        "\n",
        "    def get_angles(self, position, i, d_model):\n",
        "        angles = 1 / tf.pow(10000, (2 * (i // 2)) / tf.cast(d_model, tf.float32))\n",
        "        return position * angles\n",
        "\n",
        "    def positional_encoding(self, position, d_model):\n",
        "        # 각도 배열 생성\n",
        "        angle_rads = self.get_angles(\n",
        "            position=tf.range(position, dtype=tf.float32)[:, tf.newaxis],\n",
        "            i=tf.range(d_model, dtype=tf.float32)[tf.newaxis, :],\n",
        "            d_model=d_model)\n",
        "\n",
        "        # 배열의 짝수 인덱스에는 sin 함수 적용\n",
        "        sines = tf.math.sin(angle_rads[:, 0::2])\n",
        "        # 배열의 홀수 인덱스에는 cosine 함수 적용\n",
        "        cosines = tf.math.cos(angle_rads[:, 1::2])\n",
        "\n",
        "        # sin과 cosine이 교차되도록 재배열\n",
        "        pos_encoding = tf.stack([sines, cosines], axis=0)\n",
        "        pos_encoding = tf.transpose(pos_encoding,[1, 2, 0])\n",
        "        pos_encoding = tf.reshape(pos_encoding, [position, d_model])\n",
        "\n",
        "        pos_encoding = pos_encoding[tf.newaxis, ...]\n",
        "        return tf.cast(pos_encoding, tf.float32)\n",
        "\n",
        "    def call(self, inputs):\n",
        "        return inputs + self.pos_encoding[:, :tf.shape(inputs)[1], :]\n",
        "\n",
        "print(\"슝=3\")"
      ]
    },
    {
      "cell_type": "markdown",
      "id": "e1f89ea2",
      "metadata": {
        "id": "e1f89ea2"
      },
      "source": [
        " 스케일드 닷 프로덕트 어텐션 함수 구현"
      ]
    },
    {
      "cell_type": "code",
      "execution_count": null,
      "id": "2d746a15",
      "metadata": {
        "id": "2d746a15",
        "outputId": "14996343-a654-43c9-ad54-e6e4ac6df54d"
      },
      "outputs": [
        {
          "name": "stdout",
          "output_type": "stream",
          "text": [
            "슝=3\n"
          ]
        }
      ],
      "source": [
        "# 스케일드 닷 프로덕트 어텐션 함수\n",
        "def scaled_dot_product_attention(query, key, value, mask):\n",
        "    # 어텐션 가중치는 Q와 K의 닷 프로덕트\n",
        "    matmul_qk = tf.matmul(query, key, transpose_b=True)\n",
        "\n",
        "    # 가중치를 정규화\n",
        "    depth = tf.cast(tf.shape(key)[-1], tf.float32)\n",
        "    logits = matmul_qk / tf.math.sqrt(depth)\n",
        "\n",
        "    # 패딩에 마스크 추가\n",
        "    if mask is not None:\n",
        "        logits += (mask * -1e9)\n",
        "\n",
        "        # softmax적용\n",
        "    attention_weights = tf.nn.softmax(logits, axis=-1)\n",
        "\n",
        "    # 최종 어텐션은 가중치와 V의 닷 프로덕트\n",
        "    output = tf.matmul(attention_weights, value)\n",
        "    return output\n",
        "\n",
        "print(\"슝=3\")"
      ]
    },
    {
      "cell_type": "markdown",
      "id": "7e65d7a4",
      "metadata": {
        "id": "7e65d7a4"
      },
      "source": [
        "MultiHeadAttention 구현"
      ]
    },
    {
      "cell_type": "code",
      "execution_count": null,
      "id": "cfa8bf43",
      "metadata": {
        "id": "cfa8bf43",
        "outputId": "be016281-4e62-4dc7-f7c2-48f378c27f54"
      },
      "outputs": [
        {
          "name": "stdout",
          "output_type": "stream",
          "text": [
            "슝=3\n"
          ]
        }
      ],
      "source": [
        "class MultiHeadAttention(tf.keras.layers.Layer):\n",
        "\n",
        "    def __init__(self, d_model, num_heads, name=\"multi_head_attention\"):\n",
        "        super(MultiHeadAttention, self).__init__(name=name)\n",
        "        self.num_heads = num_heads\n",
        "        self.d_model = d_model\n",
        "\n",
        "        assert d_model % self.num_heads == 0\n",
        "\n",
        "        self.depth = d_model // self.num_heads\n",
        "\n",
        "        self.query_dense = tf.keras.layers.Dense(units=d_model)\n",
        "        self.key_dense = tf.keras.layers.Dense(units=d_model)\n",
        "        self.value_dense = tf.keras.layers.Dense(units=d_model)\n",
        "\n",
        "        self.dense = tf.keras.layers.Dense(units=d_model)\n",
        "\n",
        "    def split_heads(self, inputs, batch_size):\n",
        "        inputs = tf.reshape(\n",
        "            inputs, shape=(batch_size, -1, self.num_heads, self.depth))\n",
        "        return tf.transpose(inputs, perm=[0, 2, 1, 3])\n",
        "\n",
        "    def call(self, inputs):\n",
        "        query, key, value, mask = inputs['query'], inputs['key'], inputs[\n",
        "            'value'], inputs['mask']\n",
        "        batch_size = tf.shape(query)[0]\n",
        "\n",
        "        # Q, K, V에 각각 Dense를 적용합니다\n",
        "        query = self.query_dense(query)\n",
        "        key = self.key_dense(key)\n",
        "        value = self.value_dense(value)\n",
        "\n",
        "        # 병렬 연산을 위한 머리를 여러 개 만듭니다\n",
        "        query = self.split_heads(query, batch_size)\n",
        "        key = self.split_heads(key, batch_size)\n",
        "        value = self.split_heads(value, batch_size)\n",
        "\n",
        "        # 스케일드 닷 프로덕트 어텐션 함수\n",
        "        scaled_attention = scaled_dot_product_attention(query, key, value, mask)\n",
        "\n",
        "        scaled_attention = tf.transpose(scaled_attention, perm=[0, 2, 1, 3])\n",
        "\n",
        "        # 어텐션 연산 후에 각 결과를 다시 연결(concatenate)합니다\n",
        "        concat_attention = tf.reshape(scaled_attention,\n",
        "                                  (batch_size, -1, self.d_model))\n",
        "\n",
        "        # 최종 결과에도 Dense를 한 번 더 적용합니다\n",
        "        outputs = self.dense(concat_attention)\n",
        "\n",
        "        return outputs\n",
        "print(\"슝=3\")"
      ]
    },
    {
      "cell_type": "markdown",
      "id": "85aaf9e2",
      "metadata": {
        "id": "85aaf9e2"
      },
      "source": [
        "패딩 마스킹 구현"
      ]
    },
    {
      "cell_type": "code",
      "execution_count": null,
      "id": "b2732d1e",
      "metadata": {
        "id": "b2732d1e",
        "outputId": "3e6325a1-fe11-4994-b476-460691e29eb7"
      },
      "outputs": [
        {
          "name": "stdout",
          "output_type": "stream",
          "text": [
            "슝=3\n"
          ]
        }
      ],
      "source": [
        "#패딩 마스킹을 구현한 함수\n",
        "def create_padding_mask(x):\n",
        "    mask = tf.cast(tf.math.equal(x, 0), tf.float32)\n",
        "    # (batch_size, 1, 1, sequence length)\n",
        "    return mask[:, tf.newaxis, tf.newaxis, :]\n",
        "print(\"슝=3\")"
      ]
    },
    {
      "cell_type": "code",
      "execution_count": null,
      "id": "da6c73a6",
      "metadata": {
        "id": "da6c73a6",
        "outputId": "6bb7447a-76b5-40bb-b863-cdf7d65ce96a"
      },
      "outputs": [
        {
          "name": "stdout",
          "output_type": "stream",
          "text": [
            "슝=3\n"
          ]
        }
      ],
      "source": [
        "def create_look_ahead_mask(x):\n",
        "    seq_len = tf.shape(x)[1]\n",
        "    look_ahead_mask = 1 - tf.linalg.band_part(tf.ones((seq_len, seq_len)), -1, 0)\n",
        "    padding_mask = create_padding_mask(x)\n",
        "    return tf.maximum(look_ahead_mask, padding_mask)\n",
        "print(\"슝=3\")"
      ]
    },
    {
      "cell_type": "markdown",
      "id": "65394e46",
      "metadata": {
        "id": "65394e46"
      },
      "source": [
        "인코더 만들기\n"
      ]
    },
    {
      "cell_type": "code",
      "execution_count": null,
      "id": "0f89fd1e",
      "metadata": {
        "id": "0f89fd1e",
        "outputId": "eee2498c-afa6-4814-80e9-8d6107a1545e"
      },
      "outputs": [
        {
          "name": "stdout",
          "output_type": "stream",
          "text": [
            "슝=3\n"
          ]
        }
      ],
      "source": [
        "# 인코더 하나의 레이어를 함수로 구현.\n",
        "# 이 하나의 레이어 안에는 두 개의 서브 레이어가 존재합니다.\n",
        "def encoder_layer(units, d_model, num_heads, dropout, name=\"encoder_layer\"):\n",
        "    inputs = tf.keras.Input(shape=(None, d_model), name=\"inputs\")\n",
        "\n",
        "    # 패딩 마스크 사용\n",
        "    padding_mask = tf.keras.Input(shape=(1, 1, None), name=\"padding_mask\")\n",
        "\n",
        "    # 첫 번째 서브 레이어 : 멀티 헤드 어텐션 수행 (셀프 어텐션)\n",
        "    attention = MultiHeadAttention(\n",
        "        d_model, num_heads, name=\"attention\")({\n",
        "        'query': inputs,\n",
        "        'key': inputs,\n",
        "        'value': inputs,\n",
        "        'mask': padding_mask\n",
        "    })\n",
        "\n",
        "    # 어텐션의 결과는 Dropout과 Layer Normalization이라는 훈련을 돕는 테크닉을 수행\n",
        "    attention = tf.keras.layers.Dropout(rate=dropout)(attention)\n",
        "    attention = tf.keras.layers.LayerNormalization(\n",
        "      epsilon=1e-6)(inputs + attention)\n",
        "\n",
        "    # 두 번째 서브 레이어 : 2개의 완전연결층\n",
        "    outputs = tf.keras.layers.Dense(units=units, activation='relu')(attention)\n",
        "    outputs = tf.keras.layers.Dense(units=d_model)(outputs)\n",
        "\n",
        "    # 완전연결층의 결과는 Dropout과 LayerNormalization이라는 훈련을 돕는 테크닉을 수행\n",
        "    outputs = tf.keras.layers.Dropout(rate=dropout)(outputs)\n",
        "    outputs = tf.keras.layers.LayerNormalization(\n",
        "        epsilon=1e-6)(attention + outputs)\n",
        "\n",
        "    return tf.keras.Model(\n",
        "        inputs=[inputs, padding_mask], outputs=outputs, name=name)\n",
        "print(\"슝=3\")"
      ]
    },
    {
      "cell_type": "code",
      "execution_count": null,
      "id": "f0a751ba",
      "metadata": {
        "id": "f0a751ba",
        "outputId": "ba999bbb-9402-4afe-836d-2504c0f7cc30"
      },
      "outputs": [
        {
          "name": "stdout",
          "output_type": "stream",
          "text": [
            "슝=3\n"
          ]
        }
      ],
      "source": [
        "def encoder(vocab_size,\n",
        "            num_layers,\n",
        "            units,\n",
        "            d_model,\n",
        "            num_heads,\n",
        "            dropout,\n",
        "            name=\"encoder\"):\n",
        "    inputs = tf.keras.Input(shape=(None,), name=\"inputs\")\n",
        "\n",
        "    # 패딩 마스크 사용\n",
        "    padding_mask = tf.keras.Input(shape=(1, 1, None), name=\"padding_mask\")\n",
        "\n",
        "    # 임베딩 레이어\n",
        "    embeddings = tf.keras.layers.Embedding(vocab_size, d_model)(inputs)\n",
        "    embeddings *= tf.math.sqrt(tf.cast(d_model, tf.float32))\n",
        "\n",
        "    # 포지셔널 인코딩\n",
        "    embeddings = PositionalEncoding(vocab_size, d_model)(embeddings)\n",
        "\n",
        "    outputs = tf.keras.layers.Dropout(rate=dropout)(embeddings)\n",
        "\n",
        "    # num_layers만큼 쌓아올린 인코더의 층.\n",
        "    for i in range(num_layers):\n",
        "        outputs = encoder_layer(\n",
        "            units=units,\n",
        "            d_model=d_model,\n",
        "            num_heads=num_heads,\n",
        "            dropout=dropout,\n",
        "            name=\"encoder_layer_{}\".format(i),\n",
        "        )([outputs, padding_mask])\n",
        "\n",
        "    return tf.keras.Model(\n",
        "        inputs=[inputs, padding_mask], outputs=outputs, name=name)\n",
        "print(\"슝=3\")"
      ]
    },
    {
      "cell_type": "markdown",
      "id": "51e951ce",
      "metadata": {
        "id": "51e951ce"
      },
      "source": [
        "디코더 만들기\n"
      ]
    },
    {
      "cell_type": "code",
      "execution_count": null,
      "id": "0ac2b196",
      "metadata": {
        "id": "0ac2b196",
        "outputId": "b8ce5b80-eb2e-468d-c189-e260a0ff3b85"
      },
      "outputs": [
        {
          "name": "stdout",
          "output_type": "stream",
          "text": [
            "슝=3\n"
          ]
        }
      ],
      "source": [
        "# 디코더 하나의 레이어를 함수로 구현.\n",
        "# 이 하나의 레이어 안에는 세 개의 서브 레이어가 존재합니다.\n",
        "def decoder_layer(units, d_model, num_heads, dropout, name=\"decoder_layer\"):\n",
        "    inputs = tf.keras.Input(shape=(None, d_model), name=\"inputs\")\n",
        "    enc_outputs = tf.keras.Input(shape=(None, d_model), name=\"encoder_outputs\")\n",
        "    look_ahead_mask = tf.keras.Input(\n",
        "        shape=(1, None, None), name=\"look_ahead_mask\")\n",
        "    padding_mask = tf.keras.Input(shape=(1, 1, None), name='padding_mask')\n",
        "\n",
        "    # 첫 번째 서브 레이어 : 멀티 헤드 어텐션 수행 (셀프 어텐션)\n",
        "    attention1 = MultiHeadAttention(\n",
        "    d_model, num_heads, name=\"attention_1\")(inputs={\n",
        "        'query': inputs,\n",
        "        'key': inputs,\n",
        "        'value': inputs,\n",
        "        'mask': look_ahead_mask\n",
        "    })\n",
        "\n",
        "    # 멀티 헤드 어텐션의 결과는 LayerNormalization이라는 훈련을 돕는 테크닉을 수행\n",
        "    attention1 = tf.keras.layers.LayerNormalization(\n",
        "        epsilon=1e-6)(attention1 + inputs)\n",
        "\n",
        "    # 두 번째 서브 레이어 : 마스크드 멀티 헤드 어텐션 수행 (인코더-디코더 어텐션)\n",
        "    attention2 = MultiHeadAttention(\n",
        "        d_model, num_heads, name=\"attention_2\")(inputs={\n",
        "        'query': attention1,\n",
        "        'key': enc_outputs,\n",
        "        'value': enc_outputs,\n",
        "        'mask': padding_mask\n",
        "    })\n",
        "\n",
        "    # 마스크드 멀티 헤드 어텐션의 결과는\n",
        "    # Dropout과 LayerNormalization이라는 훈련을 돕는 테크닉을 수행\n",
        "    attention2 = tf.keras.layers.Dropout(rate=dropout)(attention2)\n",
        "    attention2 = tf.keras.layers.LayerNormalization(\n",
        "        epsilon=1e-6)(attention2 + attention1)\n",
        "\n",
        "    # 세 번째 서브 레이어 : 2개의 완전연결층\n",
        "    outputs = tf.keras.layers.Dense(units=units, activation='relu')(attention2)\n",
        "    outputs = tf.keras.layers.Dense(units=d_model)(outputs)\n",
        "\n",
        "    # 완전연결층의 결과는 Dropout과 LayerNormalization 수행\n",
        "    outputs = tf.keras.layers.Dropout(rate=dropout)(outputs)\n",
        "    outputs = tf.keras.layers.LayerNormalization(\n",
        "        epsilon=1e-6)(outputs + attention2)\n",
        "\n",
        "    return tf.keras.Model(\n",
        "        inputs=[inputs, enc_outputs, look_ahead_mask, padding_mask],\n",
        "        outputs=outputs,\n",
        "        name=name)\n",
        "print(\"슝=3\")"
      ]
    },
    {
      "cell_type": "code",
      "execution_count": null,
      "id": "7b928985",
      "metadata": {
        "id": "7b928985",
        "outputId": "c1db1ff3-be76-4fd2-e82d-8c8f13c1b858"
      },
      "outputs": [
        {
          "name": "stdout",
          "output_type": "stream",
          "text": [
            "슝=3\n"
          ]
        }
      ],
      "source": [
        "def decoder(vocab_size,\n",
        "            num_layers,\n",
        "            units,\n",
        "            d_model,\n",
        "            num_heads,\n",
        "            dropout,\n",
        "            name='decoder'):\n",
        "    inputs = tf.keras.Input(shape=(None,), name='inputs')\n",
        "    enc_outputs = tf.keras.Input(shape=(None, d_model), name='encoder_outputs')\n",
        "    look_ahead_mask = tf.keras.Input(\n",
        "        shape=(1, None, None), name='look_ahead_mask')\n",
        "\n",
        "    # 패딩 마스크\n",
        "    padding_mask = tf.keras.Input(shape=(1, 1, None), name='padding_mask')\n",
        "\n",
        "    # 임베딩 레이어\n",
        "    embeddings = tf.keras.layers.Embedding(vocab_size, d_model)(inputs)\n",
        "    embeddings *= tf.math.sqrt(tf.cast(d_model, tf.float32))\n",
        "\n",
        "    # 포지셔널 인코딩\n",
        "    embeddings = PositionalEncoding(vocab_size, d_model)(embeddings)\n",
        "\n",
        "    # Dropout이라는 훈련을 돕는 테크닉을 수행\n",
        "    outputs = tf.keras.layers.Dropout(rate=dropout)(embeddings)\n",
        "\n",
        "    for i in range(num_layers):\n",
        "        outputs = decoder_layer(\n",
        "            units=units,\n",
        "            d_model=d_model,\n",
        "            num_heads=num_heads,\n",
        "            dropout=dropout,\n",
        "            name='decoder_layer_{}'.format(i),\n",
        "        )(inputs=[outputs, enc_outputs, look_ahead_mask, padding_mask])\n",
        "\n",
        "    return tf.keras.Model(\n",
        "        inputs=[inputs, enc_outputs, look_ahead_mask, padding_mask],\n",
        "        outputs=outputs,\n",
        "        name=name)\n",
        "print(\"슝=3\")"
      ]
    },
    {
      "cell_type": "markdown",
      "id": "2e92e584",
      "metadata": {
        "id": "2e92e584"
      },
      "source": [
        "transformer 만들기"
      ]
    },
    {
      "cell_type": "code",
      "execution_count": null,
      "id": "8e3b6f91",
      "metadata": {
        "id": "8e3b6f91",
        "outputId": "e1002c3c-2652-4a81-9346-cf81687f4171"
      },
      "outputs": [
        {
          "name": "stdout",
          "output_type": "stream",
          "text": [
            "슝=3\n"
          ]
        }
      ],
      "source": [
        "def transformer(vocab_size,\n",
        "                num_layers,\n",
        "                units,\n",
        "                d_model,\n",
        "                num_heads,\n",
        "                dropout,\n",
        "                name=\"transformer\"):\n",
        "    inputs = tf.keras.Input(shape=(None,), name=\"inputs\")\n",
        "    dec_inputs = tf.keras.Input(shape=(None,), name=\"dec_inputs\")\n",
        "\n",
        "    # 인코더에서 패딩을 위한 마스크\n",
        "    enc_padding_mask = tf.keras.layers.Lambda(\n",
        "        create_padding_mask, output_shape=(1, 1, None),\n",
        "        name='enc_padding_mask')(inputs)\n",
        "\n",
        "    # 디코더에서 미래의 토큰을 마스크 하기 위해서 사용합니다.\n",
        "    # 내부적으로 패딩 마스크도 포함되어져 있습니다.\n",
        "    look_ahead_mask = tf.keras.layers.Lambda(\n",
        "        create_look_ahead_mask,\n",
        "        output_shape=(1, None, None),\n",
        "        name='look_ahead_mask')(dec_inputs)\n",
        "\n",
        "    # 두 번째 어텐션 블록에서 인코더의 벡터들을 마스킹\n",
        "    # 디코더에서 패딩을 위한 마스크\n",
        "    dec_padding_mask = tf.keras.layers.Lambda(\n",
        "        create_padding_mask, output_shape=(1, 1, None),\n",
        "        name='dec_padding_mask')(inputs)\n",
        "\n",
        "    # 인코더\n",
        "    enc_outputs = encoder(\n",
        "        vocab_size=vocab_size,\n",
        "        num_layers=num_layers,\n",
        "        units=units,\n",
        "        d_model=d_model,\n",
        "        num_heads=num_heads,\n",
        "        dropout=dropout,\n",
        "    )(inputs=[inputs, enc_padding_mask])\n",
        "\n",
        "    # 디코더\n",
        "    dec_outputs = decoder(\n",
        "        vocab_size=vocab_size,\n",
        "        num_layers=num_layers,\n",
        "        units=units,\n",
        "        d_model=d_model,\n",
        "        num_heads=num_heads,\n",
        "        dropout=dropout,\n",
        "    )(inputs=[dec_inputs, enc_outputs, look_ahead_mask, dec_padding_mask])\n",
        "\n",
        "    # 완전연결층\n",
        "    outputs = tf.keras.layers.Dense(units=vocab_size, name=\"outputs\")(dec_outputs)\n",
        "\n",
        "    return tf.keras.Model(inputs=[inputs, dec_inputs], outputs=outputs, name=name)\n",
        "print(\"슝=3\")"
      ]
    },
    {
      "cell_type": "markdown",
      "id": "0e6a4145",
      "metadata": {
        "id": "0e6a4145"
      },
      "source": [
        "### 모델 생성"
      ]
    },
    {
      "cell_type": "code",
      "execution_count": null,
      "id": "87389790",
      "metadata": {
        "id": "87389790",
        "outputId": "4ee6ee53-aff0-4b7b-b3fd-d010829d4216"
      },
      "outputs": [
        {
          "name": "stdout",
          "output_type": "stream",
          "text": [
            "Model: \"transformer\"\n",
            "__________________________________________________________________________________________________\n",
            "Layer (type)                    Output Shape         Param #     Connected to                     \n",
            "==================================================================================================\n",
            "inputs (InputLayer)             [(None, None)]       0                                            \n",
            "__________________________________________________________________________________________________\n",
            "dec_inputs (InputLayer)         [(None, None)]       0                                            \n",
            "__________________________________________________________________________________________________\n",
            "enc_padding_mask (Lambda)       (None, 1, 1, None)   0           inputs[0][0]                     \n",
            "__________________________________________________________________________________________________\n",
            "encoder (Functional)            (None, None, 256)    3147008     inputs[0][0]                     \n",
            "                                                                 enc_padding_mask[0][0]           \n",
            "__________________________________________________________________________________________________\n",
            "look_ahead_mask (Lambda)        (None, 1, None, None 0           dec_inputs[0][0]                 \n",
            "__________________________________________________________________________________________________\n",
            "dec_padding_mask (Lambda)       (None, 1, 1, None)   0           inputs[0][0]                     \n",
            "__________________________________________________________________________________________________\n",
            "decoder (Functional)            (None, None, 256)    3674368     dec_inputs[0][0]                 \n",
            "                                                                 encoder[0][0]                    \n",
            "                                                                 look_ahead_mask[0][0]            \n",
            "                                                                 dec_padding_mask[0][0]           \n",
            "__________________________________________________________________________________________________\n",
            "outputs (Dense)                 (None, None, 8175)   2100975     decoder[0][0]                    \n",
            "==================================================================================================\n",
            "Total params: 8,922,351\n",
            "Trainable params: 8,922,351\n",
            "Non-trainable params: 0\n",
            "__________________________________________________________________________________________________\n"
          ]
        }
      ],
      "source": [
        "tf.keras.backend.clear_session()\n",
        "\n",
        "# 하이퍼파라미터\n",
        "NUM_LAYERS = 2 # 인코더와 디코더의 층의 개수\n",
        "D_MODEL = 256 # 인코더와 디코더 내부의 입, 출력의 고정 차원\n",
        "NUM_HEADS = 8 # 멀티 헤드 어텐션에서의 헤드 수\n",
        "UNITS = 512 # 피드 포워드 신경망의 은닉층의 크기\n",
        "DROPOUT = 0.4 # 드롭아웃의 비율\n",
        "\n",
        "model = transformer(\n",
        "    vocab_size=VOCAB_SIZE,\n",
        "    num_layers=NUM_LAYERS,\n",
        "    units=UNITS,\n",
        "    d_model=D_MODEL,\n",
        "    num_heads=NUM_HEADS,\n",
        "    dropout=DROPOUT)\n",
        "\n",
        "model.summary()"
      ]
    },
    {
      "cell_type": "markdown",
      "id": "fd712531",
      "metadata": {
        "id": "fd712531"
      },
      "source": [
        "손실 함수"
      ]
    },
    {
      "cell_type": "code",
      "execution_count": null,
      "id": "10a2fef9",
      "metadata": {
        "id": "10a2fef9",
        "outputId": "d64dbf4e-701f-4916-fd0c-135916bd85a4"
      },
      "outputs": [
        {
          "name": "stdout",
          "output_type": "stream",
          "text": [
            "슝=3\n"
          ]
        }
      ],
      "source": [
        "def loss_function(y_true, y_pred):\n",
        "    y_true = tf.reshape(y_true, shape=(-1, MAX_LENGTH - 1))\n",
        "\n",
        "    loss = tf.keras.losses.SparseCategoricalCrossentropy(\n",
        "        from_logits=True, reduction='none')(y_true, y_pred)\n",
        "\n",
        "    mask = tf.cast(tf.not_equal(y_true, 0), tf.float32)\n",
        "    loss = tf.multiply(loss, mask)\n",
        "\n",
        "    return tf.reduce_mean(loss)\n",
        "print(\"슝=3\")"
      ]
    },
    {
      "cell_type": "markdown",
      "id": "b96319cb",
      "metadata": {
        "id": "b96319cb"
      },
      "source": [
        "3. 커스텀 된 학습률(Learning rate)"
      ]
    },
    {
      "cell_type": "code",
      "execution_count": null,
      "id": "aa1d0e2b",
      "metadata": {
        "id": "aa1d0e2b",
        "outputId": "88cf0ec9-a3e7-4ba7-8889-83fb5a902596"
      },
      "outputs": [
        {
          "name": "stdout",
          "output_type": "stream",
          "text": [
            "슝=3\n"
          ]
        }
      ],
      "source": [
        "class CustomSchedule(tf.keras.optimizers.schedules.LearningRateSchedule):\n",
        "\n",
        "    def __init__(self, d_model, warmup_steps=4000):\n",
        "\n",
        "        super(CustomSchedule, self).__init__()\n",
        "\n",
        "        self.d_model = d_model\n",
        "        self.d_model = tf.cast(self.d_model, tf.float32)\n",
        "\n",
        "        self.warmup_steps = warmup_steps\n",
        "\n",
        "    def __call__(self, step):\n",
        "        step = tf.cast(step, tf.float32)\n",
        "        arg1 = tf.math.rsqrt(step)\n",
        "        arg2 = step * (self.warmup_steps**-1.5)\n",
        "\n",
        "        return tf.math.rsqrt(self.d_model) * tf.math.minimum(arg1, arg2)\n",
        "print(\"슝=3\")"
      ]
    },
    {
      "cell_type": "code",
      "execution_count": null,
      "id": "d47fb6f3",
      "metadata": {
        "id": "d47fb6f3",
        "outputId": "b758ac4d-a69e-463f-ab70-f0e7deceac26"
      },
      "outputs": [
        {
          "data": {
            "text/plain": [
              "Text(0.5, 0, 'Train Step')"
            ]
          },
          "execution_count": 228,
          "metadata": {},
          "output_type": "execute_result"
        },
        {
          "data": {
            "image/png": "[encoded data removed]",
            "text/plain": [
              "<Figure size 432x288 with 1 Axes>"
            ]
          },
          "metadata": {
            "needs_background": "light"
          },
          "output_type": "display_data"
        }
      ],
      "source": [
        "sample_learning_rate = CustomSchedule(d_model=128)\n",
        "\n",
        "plt.plot(sample_learning_rate(tf.range(200000, dtype=tf.float32)))\n",
        "plt.ylabel(\"Learning Rate\")\n",
        "plt.xlabel(\"Train Step\")"
      ]
    },
    {
      "cell_type": "markdown",
      "id": "337c72c0",
      "metadata": {
        "id": "337c72c0"
      },
      "source": [
        "모델 컴파일"
      ]
    },
    {
      "cell_type": "code",
      "execution_count": null,
      "id": "5f74d34c",
      "metadata": {
        "id": "5f74d34c",
        "outputId": "2e96363e-5f9c-43f8-c734-78169d3262d6"
      },
      "outputs": [
        {
          "name": "stdout",
          "output_type": "stream",
          "text": [
            "슝=3\n"
          ]
        }
      ],
      "source": [
        "learning_rate = CustomSchedule(D_MODEL)\n",
        "\n",
        "optimizer = tf.keras.optimizers.Adam(\n",
        "    learning_rate, beta_1=0.9, beta_2=0.98, epsilon=1e-9)\n",
        "\n",
        "def accuracy(y_true, y_pred):\n",
        "    y_true = tf.reshape(y_true, shape=(-1, MAX_LENGTH - 1))\n",
        "    return tf.keras.metrics.sparse_categorical_accuracy(y_true, y_pred)\n",
        "\n",
        "model.compile(optimizer=optimizer, loss=loss_function, metrics=[accuracy])\n",
        "print(\"슝=3\")"
      ]
    },
    {
      "cell_type": "code",
      "execution_count": null,
      "id": "c6dee5ff",
      "metadata": {
        "id": "c6dee5ff",
        "outputId": "bc0298e9-a33b-46c8-f191-5d9167350189"
      },
      "outputs": [
        {
          "name": "stdout",
          "output_type": "stream",
          "text": [
            "Epoch 1/100\n",
            "183/183 [==============================] - 12s 35ms/step - loss: 4.3030 - accuracy: 0.0729\n",
            "Epoch 2/100\n",
            "183/183 [==============================] - 6s 34ms/step - loss: 3.3677 - accuracy: 0.1820\n",
            "Epoch 3/100\n",
            "183/183 [==============================] - 6s 34ms/step - loss: 2.6625 - accuracy: 0.1967\n",
            "Epoch 4/100\n",
            "183/183 [==============================] - 6s 34ms/step - loss: 2.4130 - accuracy: 0.2041\n",
            "Epoch 5/100\n",
            "183/183 [==============================] - 6s 34ms/step - loss: 2.2884 - accuracy: 0.2089\n",
            "Epoch 6/100\n",
            "183/183 [==============================] - 6s 34ms/step - loss: 2.2018 - accuracy: 0.2130\n",
            "Epoch 7/100\n",
            "183/183 [==============================] - 6s 34ms/step - loss: 2.1275 - accuracy: 0.2177\n",
            "Epoch 8/100\n",
            "183/183 [==============================] - 6s 34ms/step - loss: 2.0481 - accuracy: 0.2234\n",
            "Epoch 9/100\n",
            "183/183 [==============================] - 6s 34ms/step - loss: 1.9579 - accuracy: 0.2287\n",
            "Epoch 10/100\n",
            "183/183 [==============================] - 6s 34ms/step - loss: 1.8573 - accuracy: 0.2365\n",
            "Epoch 11/100\n",
            "183/183 [==============================] - 6s 34ms/step - loss: 1.7445 - accuracy: 0.2467\n",
            "Epoch 12/100\n",
            "183/183 [==============================] - 6s 34ms/step - loss: 1.6233 - accuracy: 0.2588\n",
            "Epoch 13/100\n",
            "183/183 [==============================] - 6s 34ms/step - loss: 1.4925 - accuracy: 0.2734\n",
            "Epoch 14/100\n",
            "183/183 [==============================] - 6s 34ms/step - loss: 1.3607 - accuracy: 0.2887\n",
            "Epoch 15/100\n",
            "183/183 [==============================] - 6s 34ms/step - loss: 1.2370 - accuracy: 0.3039\n",
            "Epoch 16/100\n",
            "183/183 [==============================] - 6s 34ms/step - loss: 1.1162 - accuracy: 0.3190\n",
            "Epoch 17/100\n",
            "183/183 [==============================] - 6s 34ms/step - loss: 1.0092 - accuracy: 0.3326\n",
            "Epoch 18/100\n",
            "183/183 [==============================] - 6s 34ms/step - loss: 0.9108 - accuracy: 0.3456\n",
            "Epoch 19/100\n",
            "183/183 [==============================] - 6s 34ms/step - loss: 0.8260 - accuracy: 0.3575\n",
            "Epoch 20/100\n",
            "183/183 [==============================] - 6s 34ms/step - loss: 0.7492 - accuracy: 0.3679\n",
            "Epoch 21/100\n",
            "183/183 [==============================] - 6s 34ms/step - loss: 0.6838 - accuracy: 0.3775\n",
            "Epoch 22/100\n",
            "183/183 [==============================] - 6s 34ms/step - loss: 0.6263 - accuracy: 0.3856\n",
            "Epoch 23/100\n",
            "183/183 [==============================] - 6s 34ms/step - loss: 0.5716 - accuracy: 0.3951\n",
            "Epoch 24/100\n",
            "183/183 [==============================] - 6s 34ms/step - loss: 0.5177 - accuracy: 0.4035\n",
            "Epoch 25/100\n",
            "183/183 [==============================] - 6s 34ms/step - loss: 0.4695 - accuracy: 0.4114\n",
            "Epoch 26/100\n",
            "183/183 [==============================] - 6s 34ms/step - loss: 0.4314 - accuracy: 0.4182\n",
            "Epoch 27/100\n",
            "183/183 [==============================] - 6s 34ms/step - loss: 0.3991 - accuracy: 0.4240\n",
            "Epoch 28/100\n",
            "183/183 [==============================] - 6s 34ms/step - loss: 0.3679 - accuracy: 0.4296\n",
            "Epoch 29/100\n",
            "183/183 [==============================] - 6s 34ms/step - loss: 0.3392 - accuracy: 0.4357\n",
            "Epoch 30/100\n",
            "183/183 [==============================] - 6s 34ms/step - loss: 0.3134 - accuracy: 0.4395\n",
            "Epoch 31/100\n",
            "183/183 [==============================] - 6s 34ms/step - loss: 0.2915 - accuracy: 0.4441\n",
            "Epoch 32/100\n",
            "183/183 [==============================] - 6s 34ms/step - loss: 0.2708 - accuracy: 0.4486\n",
            "Epoch 33/100\n",
            "183/183 [==============================] - 6s 34ms/step - loss: 0.2555 - accuracy: 0.4517\n",
            "Epoch 34/100\n",
            "183/183 [==============================] - 6s 34ms/step - loss: 0.2383 - accuracy: 0.4555\n",
            "Epoch 35/100\n",
            "183/183 [==============================] - 6s 34ms/step - loss: 0.2231 - accuracy: 0.4589\n",
            "Epoch 36/100\n",
            "183/183 [==============================] - 6s 34ms/step - loss: 0.2078 - accuracy: 0.4616\n",
            "Epoch 37/100\n",
            "183/183 [==============================] - 6s 34ms/step - loss: 0.1964 - accuracy: 0.4644\n",
            "Epoch 38/100\n",
            "183/183 [==============================] - 6s 34ms/step - loss: 0.1874 - accuracy: 0.4663\n",
            "Epoch 39/100\n",
            "183/183 [==============================] - 6s 34ms/step - loss: 0.1766 - accuracy: 0.4681\n",
            "Epoch 40/100\n",
            "183/183 [==============================] - 6s 34ms/step - loss: 0.1654 - accuracy: 0.4715\n",
            "Epoch 41/100\n",
            "183/183 [==============================] - 6s 34ms/step - loss: 0.1592 - accuracy: 0.4728\n",
            "Epoch 42/100\n",
            "183/183 [==============================] - 6s 35ms/step - loss: 0.1523 - accuracy: 0.4741\n",
            "Epoch 43/100\n",
            "183/183 [==============================] - 6s 34ms/step - loss: 0.1447 - accuracy: 0.4769\n",
            "Epoch 44/100\n",
            "183/183 [==============================] - 6s 34ms/step - loss: 0.1376 - accuracy: 0.4780\n",
            "Epoch 45/100\n",
            "183/183 [==============================] - 6s 34ms/step - loss: 0.1319 - accuracy: 0.4794\n",
            "Epoch 46/100\n",
            "183/183 [==============================] - 6s 34ms/step - loss: 0.1270 - accuracy: 0.4810\n",
            "Epoch 47/100\n",
            "183/183 [==============================] - 6s 34ms/step - loss: 0.1221 - accuracy: 0.4815\n",
            "Epoch 48/100\n",
            "183/183 [==============================] - 6s 34ms/step - loss: 0.1178 - accuracy: 0.4832\n",
            "Epoch 49/100\n",
            "183/183 [==============================] - 6s 34ms/step - loss: 0.1118 - accuracy: 0.4846\n",
            "Epoch 50/100\n",
            "183/183 [==============================] - 6s 34ms/step - loss: 0.1083 - accuracy: 0.4856\n",
            "Epoch 51/100\n",
            "183/183 [==============================] - 6s 34ms/step - loss: 0.1039 - accuracy: 0.4868\n",
            "Epoch 52/100\n",
            "183/183 [==============================] - 6s 34ms/step - loss: 0.1006 - accuracy: 0.4871\n",
            "Epoch 53/100\n",
            "183/183 [==============================] - 6s 34ms/step - loss: 0.0961 - accuracy: 0.4886\n",
            "Epoch 54/100\n",
            "183/183 [==============================] - 6s 34ms/step - loss: 0.0965 - accuracy: 0.4887\n",
            "Epoch 55/100\n",
            "183/183 [==============================] - 6s 34ms/step - loss: 0.0912 - accuracy: 0.4901\n",
            "Epoch 56/100\n",
            "183/183 [==============================] - 6s 34ms/step - loss: 0.0893 - accuracy: 0.4906\n",
            "Epoch 57/100\n",
            "183/183 [==============================] - 6s 34ms/step - loss: 0.0861 - accuracy: 0.4918\n",
            "Epoch 58/100\n",
            "183/183 [==============================] - 6s 34ms/step - loss: 0.0825 - accuracy: 0.4924\n",
            "Epoch 59/100\n",
            "183/183 [==============================] - 6s 34ms/step - loss: 0.0815 - accuracy: 0.4922\n",
            "Epoch 60/100\n",
            "183/183 [==============================] - 6s 34ms/step - loss: 0.0784 - accuracy: 0.4930\n",
            "Epoch 61/100\n",
            "183/183 [==============================] - 6s 34ms/step - loss: 0.0768 - accuracy: 0.4939\n",
            "Epoch 62/100\n",
            "183/183 [==============================] - 6s 34ms/step - loss: 0.0747 - accuracy: 0.4942\n",
            "Epoch 63/100\n",
            "183/183 [==============================] - 6s 34ms/step - loss: 0.0744 - accuracy: 0.4942\n",
            "Epoch 64/100\n",
            "183/183 [==============================] - 6s 34ms/step - loss: 0.0716 - accuracy: 0.4950\n",
            "Epoch 65/100\n",
            "183/183 [==============================] - 6s 34ms/step - loss: 0.0694 - accuracy: 0.4956\n",
            "Epoch 66/100\n",
            "183/183 [==============================] - 6s 34ms/step - loss: 0.0689 - accuracy: 0.4959\n",
            "Epoch 67/100\n",
            "183/183 [==============================] - 6s 34ms/step - loss: 0.0658 - accuracy: 0.4968\n",
            "Epoch 68/100\n",
            "183/183 [==============================] - 6s 34ms/step - loss: 0.0651 - accuracy: 0.4965\n",
            "Epoch 69/100\n",
            "183/183 [==============================] - 6s 34ms/step - loss: 0.0627 - accuracy: 0.4974\n",
            "Epoch 70/100\n",
            "183/183 [==============================] - 6s 34ms/step - loss: 0.0620 - accuracy: 0.4977\n",
            "Epoch 71/100\n",
            "183/183 [==============================] - 6s 34ms/step - loss: 0.0593 - accuracy: 0.4984\n",
            "Epoch 72/100\n",
            "183/183 [==============================] - 6s 34ms/step - loss: 0.0595 - accuracy: 0.4983\n",
            "Epoch 73/100\n",
            "183/183 [==============================] - 6s 34ms/step - loss: 0.0596 - accuracy: 0.4983\n",
            "Epoch 74/100\n",
            "183/183 [==============================] - 6s 34ms/step - loss: 0.0560 - accuracy: 0.4997\n",
            "Epoch 75/100\n",
            "183/183 [==============================] - 6s 34ms/step - loss: 0.0546 - accuracy: 0.4998\n",
            "Epoch 76/100\n",
            "183/183 [==============================] - 6s 34ms/step - loss: 0.0563 - accuracy: 0.4994\n",
            "Epoch 77/100\n",
            "183/183 [==============================] - 6s 34ms/step - loss: 0.0546 - accuracy: 0.4998\n",
            "Epoch 78/100\n",
            "183/183 [==============================] - 6s 34ms/step - loss: 0.0524 - accuracy: 0.5002\n",
            "Epoch 79/100\n",
            "183/183 [==============================] - 6s 34ms/step - loss: 0.0504 - accuracy: 0.5011\n",
            "Epoch 80/100\n",
            "183/183 [==============================] - 6s 34ms/step - loss: 0.0506 - accuracy: 0.5007\n",
            "Epoch 81/100\n",
            "183/183 [==============================] - 6s 34ms/step - loss: 0.0503 - accuracy: 0.5008\n",
            "Epoch 82/100\n",
            "183/183 [==============================] - 6s 34ms/step - loss: 0.0488 - accuracy: 0.5012\n",
            "Epoch 83/100\n",
            "183/183 [==============================] - 6s 34ms/step - loss: 0.0474 - accuracy: 0.5019\n",
            "Epoch 84/100\n",
            "183/183 [==============================] - 6s 34ms/step - loss: 0.0473 - accuracy: 0.5018\n",
            "Epoch 85/100\n",
            "183/183 [==============================] - 6s 34ms/step - loss: 0.0460 - accuracy: 0.5026\n",
            "Epoch 86/100\n",
            "183/183 [==============================] - 6s 34ms/step - loss: 0.0459 - accuracy: 0.5023\n",
            "Epoch 87/100\n",
            "183/183 [==============================] - 6s 34ms/step - loss: 0.0462 - accuracy: 0.5022\n",
            "Epoch 88/100\n",
            "183/183 [==============================] - 6s 34ms/step - loss: 0.0445 - accuracy: 0.5022\n",
            "Epoch 89/100\n",
            "183/183 [==============================] - 6s 34ms/step - loss: 0.0428 - accuracy: 0.5030\n",
            "Epoch 90/100\n",
            "183/183 [==============================] - 6s 35ms/step - loss: 0.0423 - accuracy: 0.5030\n",
            "Epoch 91/100\n",
            "183/183 [==============================] - 6s 35ms/step - loss: 0.0417 - accuracy: 0.5032\n",
            "Epoch 92/100\n",
            "183/183 [==============================] - 6s 34ms/step - loss: 0.0405 - accuracy: 0.5037\n",
            "Epoch 93/100\n",
            "183/183 [==============================] - 6s 34ms/step - loss: 0.0406 - accuracy: 0.5037\n",
            "Epoch 94/100\n",
            "183/183 [==============================] - 6s 34ms/step - loss: 0.0399 - accuracy: 0.5038\n",
            "Epoch 95/100\n",
            "183/183 [==============================] - 6s 34ms/step - loss: 0.0401 - accuracy: 0.5037\n",
            "Epoch 96/100\n",
            "183/183 [==============================] - 6s 34ms/step - loss: 0.0402 - accuracy: 0.5037\n",
            "Epoch 97/100\n",
            "183/183 [==============================] - 6s 34ms/step - loss: 0.0390 - accuracy: 0.5041\n",
            "Epoch 98/100\n",
            "183/183 [==============================] - 6s 34ms/step - loss: 0.0376 - accuracy: 0.5046\n",
            "Epoch 99/100\n",
            "183/183 [==============================] - 6s 34ms/step - loss: 0.0366 - accuracy: 0.5050\n",
            "Epoch 100/100\n",
            "183/183 [==============================] - 6s 34ms/step - loss: 0.0358 - accuracy: 0.5049\n"
          ]
        },
        {
          "data": {
            "text/plain": [
              "<keras.callbacks.History at 0x7f54d15a0e80>"
            ]
          },
          "execution_count": 230,
          "metadata": {},
          "output_type": "execute_result"
        }
      ],
      "source": [
        "EPOCHS = 100\n",
        "model.fit(dataset, epochs=EPOCHS, verbose=1)"
      ]
    },
    {
      "cell_type": "markdown",
      "id": "364d0046",
      "metadata": {
        "id": "364d0046"
      },
      "source": [
        "## STEP5. 모델 평가하기"
      ]
    },
    {
      "cell_type": "code",
      "execution_count": null,
      "id": "db98e621",
      "metadata": {
        "id": "db98e621",
        "outputId": "a0baf445-92e7-4ce6-8ec8-bcb89e594cbe"
      },
      "outputs": [
        {
          "name": "stdout",
          "output_type": "stream",
          "text": [
            "슝=3\n"
          ]
        }
      ],
      "source": [
        "def decoder_inference(sentence):\n",
        "    sentence = preprocess_sentence(sentence)\n",
        "\n",
        "  # 입력된 문장을 정수 인코딩 후, 시작 토큰과 종료 토큰을 앞뒤로 추가.\n",
        "  # ex) Where have you been? → [[8331   86   30    5 1059    7 8332]]\n",
        "    sentence = tf.expand_dims(\n",
        "        START_TOKEN + tokenizer.encode(sentence) + END_TOKEN, axis=0)\n",
        "\n",
        "  # 디코더의 현재까지의 예측한 출력 시퀀스가 지속적으로 저장되는 변수.\n",
        "  # 처음에는 예측한 내용이 없음으로 시작 토큰만 별도 저장. ex) 8331\n",
        "    output_sequence = tf.expand_dims(START_TOKEN, 0)\n",
        "\n",
        "  # 디코더의 인퍼런스 단계\n",
        "    for i in range(MAX_LENGTH):\n",
        "    # 디코더는 최대 MAX_LENGTH의 길이만큼 다음 단어 예측을 반복합니다.\n",
        "        predictions = model(inputs=[sentence, output_sequence], training=False)\n",
        "        predictions = predictions[:, -1:, :]\n",
        "\n",
        "    # 현재 예측한 단어의 정수\n",
        "        predicted_id = tf.cast(tf.argmax(predictions, axis=-1), tf.int32)\n",
        "\n",
        "    # 만약 현재 예측한 단어가 종료 토큰이라면 for문을 종료\n",
        "        if tf.equal(predicted_id, END_TOKEN[0]):\n",
        "            break\n",
        "\n",
        "    # 예측한 단어들은 지속적으로 output_sequence에 추가됩니다.\n",
        "    # 이 output_sequence는 다시 디코더의 입력이 됩니다.\n",
        "        output_sequence = tf.concat([output_sequence, predicted_id], axis=-1)\n",
        "\n",
        "    return tf.squeeze(output_sequence, axis=0)\n",
        "print(\"슝=3\")"
      ]
    },
    {
      "cell_type": "code",
      "execution_count": null,
      "id": "76e7f6c1",
      "metadata": {
        "id": "76e7f6c1",
        "outputId": "a1bebbb9-c1cf-4be7-cd5a-80ec8e37de0c"
      },
      "outputs": [
        {
          "name": "stdout",
          "output_type": "stream",
          "text": [
            "슝=3\n"
          ]
        }
      ],
      "source": [
        "def sentence_generation(sentence):\n",
        "  # 입력 문장에 대해서 디코더를 동작 시켜 예측된 정수 시퀀스를 리턴받습니다.\n",
        "    prediction = decoder_inference(sentence)\n",
        "\n",
        "  # 정수 시퀀스를 다시 텍스트 시퀀스로 변환합니다.\n",
        "    predicted_sentence = tokenizer.decode(\n",
        "        [i for i in prediction if i < tokenizer.vocab_size])\n",
        "\n",
        "    print('입력 : {}'.format(sentence))\n",
        "    print('출력 : {}'.format(predicted_sentence))\n",
        "    print(\"-------------------\")\n",
        "\n",
        "    return predicted_sentence\n",
        "print(\"슝=3\")"
      ]
    },
    {
      "cell_type": "markdown",
      "id": "072dbb00",
      "metadata": {
        "id": "072dbb00"
      },
      "source": [
        "### 한글만 정규 표현식에 넣어서 진행 했을 때 결과\n",
        "pattern=\"가-힣.?!,\""
      ]
    },
    {
      "cell_type": "code",
      "execution_count": null,
      "id": "af9937d8",
      "metadata": {
        "id": "af9937d8",
        "outputId": "dd6927a2-6395-4bda-e913-aa5d2b365787"
      },
      "outputs": [
        {
          "name": "stdout",
          "output_type": "stream",
          "text": [
            "입력 : 한가지 소원이 있다면?\n",
            "출력 : 가운데서 만나거나 돌아가면서 희생을 하죠 .\n",
            "-------------------\n",
            "입력 : 심심해?\n",
            "출력 : 노래 불러 드릴까요 ? 북치기박치기박치기 헥헥\n",
            "-------------------\n",
            "입력 : 점심메뉴 선택해줘\n",
            "출력 : 저도 제 마음대로 되면 더 바랄 게 없겠네요 .\n",
            "-------------------\n",
            "입력 : 여행 떠나고 싶어\n",
            "출력 : 큰 꿈여행을 떠나 꿈여행을 하고 아무렇지도 않게 같이 꿈보세요 .\n",
            "-------------------\n",
            "입력 : TV엔 어떤 프로그램이 나오니?\n",
            "출력 : 항상 확실한 의사표시를 했는데도 그렇다는 건 이기적인 것 같아요 .\n",
            "-------------------\n",
            "입력 : 1년뒤에 어떻게 바뀔까요?\n",
            "출력 : 평소에 볼 수 없었던 특별한 모습으로 색다른 데이트를 제안해보세요 .\n",
            "-------------------\n",
            "입력 : 12월에 어디를 가면 좋을까?\n",
            "출력 : 알아가는 단계니 디테일한 건 말 안해도 돼요 .\n",
            "-------------------\n"
          ]
        },
        {
          "data": {
            "text/plain": [
              "'알아가는 단계니 디테일한 건 말 안해도 돼요 .'"
            ]
          },
          "execution_count": 111,
          "metadata": {},
          "output_type": "execute_result"
        }
      ],
      "source": [
        "sentence_generation('한가지 소원이 있다면?')\n",
        "sentence_generation('심심해?')\n",
        "sentence_generation(\"점심메뉴 선택해줘\")\n",
        "sentence_generation('여행 떠나고 싶어')\n",
        "sentence_generation('TV엔 어떤 프로그램이 나오니?')\n",
        "sentence_generation('1년뒤에 어떻게 바뀔까요?')\n",
        "sentence_generation('12월에 어디를 가면 좋을까?')"
      ]
    },
    {
      "cell_type": "markdown",
      "id": "f10ab91f",
      "metadata": {
        "id": "f10ab91f"
      },
      "source": [
        "### 한글과 영어를 정규 표현식에 넣어서 진행 했을 때 결과\n",
        "pattern1 = \"가-힣a-zA-Z.?!,\""
      ]
    },
    {
      "cell_type": "code",
      "execution_count": null,
      "id": "b0a269c8",
      "metadata": {
        "id": "b0a269c8",
        "outputId": "2cf92543-2bca-44fb-8777-ef2a6967811f"
      },
      "outputs": [
        {
          "name": "stdout",
          "output_type": "stream",
          "text": [
            "입력 : 한가지 소원이 있다면?\n",
            "출력 : 요즘 상영하는 영화나 맛집부터 시작해보는 것도 좋을 듯합니다 .\n",
            "-------------------\n",
            "입력 : 심심해?\n",
            "출력 : 친구들과 연락해보세요 . 당장 그럴 거예요 . 무엇이 그럴 수 있어요 . 무엇이 있어요 .\n",
            "-------------------\n",
            "입력 : 점심메뉴 선택해줘\n",
            "출력 : 돌아보면 다그치지 않고 화내지 않아도 될 일이었을 거예요 .\n",
            "-------------------\n",
            "입력 : 여행 떠나고 싶어\n",
            "출력 : 좋은 생각이에요 . 좋은 생각이에요 . 혼자하는 여행은 기분전환에 좋은 생각이에요 .\n",
            "-------------------\n",
            "입력 : TV엔 어떤 프로그램이 나오니?\n",
            "출력 : 수학 공식처럼 정의 내릴 수 있다면 그런 거예요 .\n",
            "-------------------\n",
            "입력 : sd카드 사고 싶어\n",
            "출력 : 거울을 보면서 얼굴 망가뜨리기 놀이 해 보신 적 있으세요 ? 의외로 재미 있어요 .\n",
            "-------------------\n",
            "입력 : 1년뒤에 어떻게 바뀔까요?\n",
            "출력 : 일부로 부추기면 가끔 안 좋은 결과가 나오기도 해요 .\n",
            "-------------------\n",
            "입력 : 12월에 어디를 가면 좋을까?\n",
            "출력 : 보통 남자들은 아무 여자에게나 하트를 붙여서 말하지 않아요 .\n",
            "-------------------\n"
          ]
        },
        {
          "data": {
            "text/plain": [
              "'보통 남자들은 아무 여자에게나 하트를 붙여서 말하지 않아요 .'"
            ]
          },
          "execution_count": 144,
          "metadata": {},
          "output_type": "execute_result"
        }
      ],
      "source": [
        "sentence_generation('한가지 소원이 있다면?')\n",
        "sentence_generation('심심해?')\n",
        "sentence_generation(\"점심메뉴 선택해줘\")\n",
        "sentence_generation('여행 떠나고 싶어')\n",
        "sentence_generation('TV엔 어떤 프로그램이 나오니?')\n",
        "sentence_generation('sd카드 사고 싶어')\n",
        "sentence_generation('1년뒤에 어떻게 바뀔까요?')\n",
        "sentence_generation('12월에 어디를 가면 좋을까?')"
      ]
    },
    {
      "cell_type": "markdown",
      "id": "84980442",
      "metadata": {
        "id": "84980442"
      },
      "source": [
        "### 숫자, 한글을 정규 표현식에 넣어서 진행 했을 때 결과\n",
        "pattern2 = \"0-9가-힣.?!,\""
      ]
    },
    {
      "cell_type": "code",
      "execution_count": null,
      "id": "386e4833",
      "metadata": {
        "id": "386e4833",
        "outputId": "a5f47576-daeb-4719-a02d-9fb3bbff03e9"
      },
      "outputs": [
        {
          "name": "stdout",
          "output_type": "stream",
          "text": [
            "입력 : 한가지 소원이 있다면?\n",
            "출력 : 영화관 공원 놀이동산 바다 산 축제 도서관 엄청 많죠 .\n",
            "-------------------\n",
            "입력 : 심심해?\n",
            "출력 : 노래 불러 드릴까요 ? 북치기박치기박치기 헥헥\n",
            "-------------------\n",
            "입력 : 점심메뉴 선택해줘\n",
            "출력 : 화학 물질이 접촉하는 것처럼 반응이 일어나서 완전히 바뀌게 되죠 .\n",
            "-------------------\n",
            "입력 : 여행 떠나고 싶어\n",
            "출력 : 저도 만날 사람 만날 때 같이 가는 건 같이 가는 사람은 안됩니다 .\n",
            "-------------------\n",
            "입력 : TV엔 어떤 프로그램이 나오니?\n",
            "출력 : 마음 먹은 것만으로도 절반을 해낸 거라 생각해요 .\n",
            "-------------------\n",
            "입력 : sd카드 사고 싶어\n",
            "출력 : 목록에서 없애는 건 어떨까요 . 눈에서 멀어지면 미련도 덜해집니다 .\n",
            "-------------------\n",
            "입력 : 1년뒤에 어떻게 바뀔까요?\n",
            "출력 : 마음은 마음대로 되지 않아요 . 이 고민지다고 생각하는 사람은 좋겠네요 .\n",
            "-------------------\n",
            "입력 : 12월에 어디 가면 좋으니?\n",
            "출력 : 사랑한다면 자존심을 굽힐 줄도 알아야 겠죠 .\n",
            "-------------------\n"
          ]
        },
        {
          "data": {
            "text/plain": [
              "'사랑한다면 자존심을 굽힐 줄도 알아야 겠죠 .'"
            ]
          },
          "execution_count": 236,
          "metadata": {},
          "output_type": "execute_result"
        }
      ],
      "source": [
        "sentence_generation('한가지 소원이 있다면?')\n",
        "sentence_generation('심심해?')\n",
        "sentence_generation(\"점심메뉴 선택해줘\")\n",
        "sentence_generation('여행 떠나고 싶어')\n",
        "sentence_generation('TV엔 어떤 프로그램이 나오니?')\n",
        "sentence_generation('sd카드 사고 싶어')\n",
        "sentence_generation('1년뒤에 어떻게 바뀔까요?')\n",
        "sentence_generation('12월에 어디 가면 좋으니?')"
      ]
    },
    {
      "cell_type": "markdown",
      "id": "0b4e5955",
      "metadata": {
        "id": "0b4e5955"
      },
      "source": [
        "## 회고\n",
        "\n",
        "- 한국어로 챗봇 만들기 프로젝트를 진행하면서 트랜스포머의 모델에 대한 이해도가 높지 않아서 중점을 데이터 전처리에 두고 프로젝트를 진행했다. 프로젝트를 진행하면서 epoch의 변화와, 단어 토크나이징에 변화를 주면서 모델을 학습시켜봤다.  \n",
        "- 먼저 epoch에 대해선 10, 50, 100, 200으로 학습을 진행하였는데, 10, 50 보다는 100일 때, 문장 답변의 퀄리티가 좋았고, 200일 때는 100과 비교했을 때, 좋았던 경우도 있고, 부정확한 경우도 있었다. 그래서 200일 때는 오버피팅이 발생했다고 생각했고, epoch는 100으로 설정해서 학습을 진행했다.  \n",
        "- 다음으로 단어 토크나이징은 3가지로 나누어서 진행했는데, 결론은 영어와, 숫자는 데이터가 너무 적어서 결과가 좋지 못했다. 영어는 부정확한 답변을 알려주었고, 숫자는 그나마 영어 보다는 좋았지만, 그래도 부정확한 답변을 알려주었다. 그래서 이 모델을 학습시킨다면, 질문을 한글위주로 하는것이 좋을것 같다. 아니면 데이터를 추가해서 학습시키는것이 좋을것 같다.  \n",
        "- 마지막으로 데이터셋에 대해 살펴 보았는데, 문장 구조가 비슷한 경우가 많았고, 데이터도 많지 않다보니, 학습시킨 내용과 비슷한 질문을 했을 땐 답변을 잘 해주었지만, 어려운? 질문을 했을 땐 답변을 잘 하지 못하는 결과를 보여주었다. 학습과 관련해서 정확도가 높다고 무조건 좋은 답변을 해주는 것은 아니었다(정확도가 0.3과 0.5는 질문의 답변 퀄리티가 차이가 낫지만, 0.5와 0.6의 정확도에 대한 질문의 퀄리티 차이는 거의 없었다.).\n",
        "- 성능을 높이고자, 하이퍼 파라미터를 변경해 보았지만, 사용하는 데이터 셋의 한계가 있기도 했고, 최적의 하이퍼파라미터를 구하기(ex gridsearch)엔 시간이 부족하여 실행해보지 못했다. 추후에 트랜스포머에 대해 좀더 배워보고 데이터 셋에 알맞는 학습을 진행해보겠다.\n"
      ]
    },
    {
      "cell_type": "code",
      "execution_count": null,
      "id": "8fb62e15",
      "metadata": {
        "id": "8fb62e15"
      },
      "outputs": [],
      "source": []
    },
    {
      "cell_type": "code",
      "execution_count": null,
      "id": "c4241752",
      "metadata": {
        "id": "c4241752"
      },
      "outputs": [],
      "source": []
    },
    {
      "cell_type": "code",
      "execution_count": null,
      "id": "c8aa0ff6",
      "metadata": {
        "id": "c8aa0ff6"
      },
      "outputs": [],
      "source": []
    },
    {
      "cell_type": "code",
      "execution_count": null,
      "id": "05efb5a3",
      "metadata": {
        "id": "05efb5a3"
      },
      "outputs": [],
      "source": []
    }
  ],
  "metadata": {
    "kernelspec": {
      "display_name": "Python 3 (ipykernel)",
      "language": "python",
      "name": "python3"
    },
    "language_info": {
      "codemirror_mode": {
        "name": "ipython",
        "version": 3
      },
      "file_extension": ".py",
      "mimetype": "text/x-python",
      "name": "python",
      "nbconvert_exporter": "python",
      "pygments_lexer": "ipython3",
      "version": "3.9.7"
    },
    "colab": {
      "provenance": [],
      "include_colab_link": true
    }
  },
  "nbformat": 4,
  "nbformat_minor": 5
}
